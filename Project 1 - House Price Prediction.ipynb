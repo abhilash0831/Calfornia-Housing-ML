{
 "cells": [
  {
   "cell_type": "markdown",
   "id": "3ab50371",
   "metadata": {},
   "source": [
    "### Import Libraries"
   ]
  },
  {
   "cell_type": "code",
   "execution_count": null,
   "id": "6b62a452",
   "metadata": {},
   "outputs": [],
   "source": [
    "import numpy as np\n",
    "\n",
    "import pandas as pd\n",
    "pd.set_option('display.max_columns', 100)\n",
    "\n",
    "from matplotlib import pyplot as plt\n",
    "%matplotlib inline\n",
    "\n",
    "import seaborn as sns\n",
    "\n",
    "import sklearn\n",
    "\n",
    "from sklearn.linear_model import Lasso, Ridge, ElasticNet\n",
    "\n",
    "from sklearn.ensemble import RandomForestRegressor, GradientBoostingRegressor\n",
    "\n",
    "from xgboost import XGBRegressor\n",
    "\n",
    "from sklearn.model_selection import train_test_split, GridSearchCV\n",
    "\n",
    "from sklearn.pipeline import make_pipeline\n",
    "\n",
    "from sklearn.preprocessing import StandardScaler\n",
    "\n",
    "from sklearn.exceptions import NotFittedError\n",
    "\n",
    "from sklearn.metrics import r2_score, mean_absolute_error"
   ]
  },
  {
   "cell_type": "code",
   "execution_count": null,
   "id": "e7a733ef",
   "metadata": {},
   "outputs": [],
   "source": [
    "# Import california housing dataset\n",
    "from sklearn.datasets import fetch_california_housing\n",
    "california_housing = fetch_california_housing(as_frame=True)"
   ]
  },
  {
   "cell_type": "code",
   "execution_count": null,
   "id": "399d1669",
   "metadata": {},
   "outputs": [],
   "source": [
    "#print(california_housing.DESCR)"
   ]
  },
  {
   "cell_type": "code",
   "execution_count": null,
   "id": "082ef4da",
   "metadata": {},
   "outputs": [],
   "source": [
    "#Overview of entire dataset\n",
    "california_housing.frame.head()"
   ]
  },
  {
   "cell_type": "code",
   "execution_count": null,
   "id": "a7ad3e2e",
   "metadata": {},
   "outputs": [],
   "source": [
    "# Shape of the data\n",
    "california_housing.data.shape"
   ]
  },
  {
   "cell_type": "code",
   "execution_count": null,
   "id": "1d49e103",
   "metadata": {},
   "outputs": [],
   "source": [
    "california_housing.data.head()"
   ]
  },
  {
   "cell_type": "code",
   "execution_count": null,
   "id": "d0562faf",
   "metadata": {},
   "outputs": [],
   "source": [
    "# Summary of all features\n",
    "california_housing.data.describe()"
   ]
  },
  {
   "cell_type": "code",
   "execution_count": null,
   "id": "38b79afa",
   "metadata": {},
   "outputs": [],
   "source": [
    "# Check if the data has any missing value\n",
    "california_housing.data.info()"
   ]
  },
  {
   "cell_type": "code",
   "execution_count": null,
   "id": "59e693da",
   "metadata": {},
   "outputs": [],
   "source": [
    "# Distributions of data features/target variable to see any potential outliers or sparse data or features that should be binary\n",
    "california_housing.frame.hist(figsize=(12,10), bins = 30)\n",
    "plt.subplots_adjust(hspace=0.6, wspace=0.3)\n",
    "plt.show()"
   ]
  },
  {
   "cell_type": "markdown",
   "id": "c64772bb",
   "metadata": {},
   "source": [
    "#### 1. Median income is more or less normally distributed but there are some people with high salary (long tail).\n",
    "#### 2. House age looks more or less uniform. \n",
    "#### 3. Med House Value (target variable) has a long tail like median income. However, it's certain we have a threshold effect where all houses with a price above 5 are given the value of 5. \n",
    "#### 4. For avg rooms, avg bedrooms, avg occupation, and population the range looks large indicating there are very high and few values. "
   ]
  },
  {
   "cell_type": "code",
   "execution_count": null,
   "id": "8b0e0494",
   "metadata": {},
   "outputs": [],
   "source": [
    "# Looking at the statistics for these features\n",
    "large_range_features = [\"AveRooms\", \"AveBedrms\", \"AveOccup\", \"Population\"]\n",
    "california_housing.frame[large_range_features].describe()"
   ]
  },
  {
   "cell_type": "markdown",
   "id": "e7818fc3",
   "metadata": {},
   "source": [
    "#### Looking at this statistics where there is a huge difference between 75% and 'max' data it seems like there are a few extreme values. "
   ]
  },
  {
   "cell_type": "code",
   "execution_count": null,
   "id": "d19bde3b",
   "metadata": {},
   "outputs": [],
   "source": [
    "# Scatter plot of latitude and longitude data with hous value\n",
    "plt.figure(figsize=(12, 10))\n",
    "scatter_plot = sns.scatterplot(data=california_housing.frame,\n",
    "                              x=\"Longitude\",\n",
    "                              y=\"Latitude\",\n",
    "                              size=\"MedHouseVal\",\n",
    "                              hue=\"MedHouseVal\",\n",
    "                              palette=\"viridis\",\n",
    "                              #sizes=(10,200),\n",
    "                              alpha=0.5\n",
    "                              )\n",
    "plt.title('California Housing Prices by Location', fontsize=16)\n",
    "plt.xlabel(\"Longitude\", fontsize=14)\n",
    "plt.ylabel(\"Latitude\", fontsize=14)\n",
    "plt.show()"
   ]
  },
  {
   "cell_type": "markdown",
   "id": "2afc1690",
   "metadata": {},
   "source": [
    "#### All high-valued houses are be located on the coast, where the big cities from California are located: San Diego, Los Angeles, San Jose, or San Francisco."
   ]
  },
  {
   "cell_type": "code",
   "execution_count": null,
   "id": "678c8807",
   "metadata": {},
   "outputs": [],
   "source": [
    "### Pair plot of all features (except latitude and longitude) against target variable \n",
    "\n",
    "data_filtered = california_housing.frame.drop(columns=[\"Longitude\", \"Latitude\"])\n",
    "\n",
    "data_filtered[\"MedHouseVal\"] = pd.qcut(data_filtered[\"MedHouseVal\"], 6, retbins=False)\n",
    "data_filtered[\"MedHouseVal\"] = data_filtered[\"MedHouseVal\"].apply(lambda x: x.mid)\n",
    "\n",
    "sns.pairplot(data_filtered, diag_kind=\"kde\", hue=\"MedHouseVal\", palette=\"viridis\", corner=False, plot_kws={\"alpha\": 0.5})\n",
    "\n",
    "plt.suptitle(\"Pair Plot of California Housing Features and Target\", y=1.02, fontsize=16)\n",
    "plt.show()"
   ]
  },
  {
   "cell_type": "code",
   "execution_count": null,
   "id": "f3288c6b",
   "metadata": {},
   "outputs": [],
   "source": [
    "### Heatmap of correlations between features\n",
    "correlations = california_housing.frame.corr()"
   ]
  },
  {
   "cell_type": "code",
   "execution_count": null,
   "id": "0fdc40bd",
   "metadata": {},
   "outputs": [],
   "source": [
    "correlations"
   ]
  },
  {
   "cell_type": "code",
   "execution_count": null,
   "id": "9b42cf49",
   "metadata": {},
   "outputs": [],
   "source": [
    "plt.figure(figsize=(7, 6))\n",
    "\n",
    "sns.heatmap(correlations, cmap='RdBu', annot=True, fmt='.1f')\n",
    "plt.show()"
   ]
  },
  {
   "cell_type": "markdown",
   "id": "10df9912",
   "metadata": {},
   "source": [
    "### Median income could be helpful in separating low-valued houses from high-valued houses. "
   ]
  },
  {
   "cell_type": "markdown",
   "id": "c9b389fd",
   "metadata": {},
   "source": [
    "### Model Training"
   ]
  },
  {
   "cell_type": "code",
   "execution_count": null,
   "id": "dac13615",
   "metadata": {},
   "outputs": [],
   "source": [
    "### Create separate object for target variable\n",
    "y = california_housing.frame.MedHouseVal\n",
    "\n",
    "### Create separate object for input features\n",
    "X = california_housing.frame.drop('MedHouseVal', axis=1)"
   ]
  },
  {
   "cell_type": "code",
   "execution_count": null,
   "id": "a776dadf",
   "metadata": {},
   "outputs": [],
   "source": [
    "### Split X and y into train and test sets\n",
    "X_train, X_test, y_train, y_test = train_test_split(X, y, test_size=0.2, random_state=1234)"
   ]
  },
  {
   "cell_type": "code",
   "execution_count": null,
   "id": "506e8f49",
   "metadata": {},
   "outputs": [],
   "source": [
    "### Confirmation if split was correct\n",
    "### print(len(X_train), len(X_test), len(y_train), len(y_test))"
   ]
  },
  {
   "cell_type": "code",
   "execution_count": null,
   "id": "bf552bee",
   "metadata": {},
   "outputs": [],
   "source": [
    "### Creating a pipelines dictionary\n",
    "pipelines = {\n",
    "    'lasso': make_pipeline(StandardScaler(), Lasso(random_state=123)),\n",
    "    'ridge': make_pipeline(StandardScaler(), Ridge(random_state=123)),\n",
    "    'enet': make_pipeline(StandardScaler(), ElasticNet(random_state=123)),\n",
    "    'rf': make_pipeline(StandardScaler(), RandomForestRegressor(random_state=123)),\n",
    "    'gb': make_pipeline(StandardScaler(), GradientBoostingRegressor(random_state=123)),\n",
    "    'xgb': make_pipeline(StandardScaler(), XGBRegressor(random_state=123))\n",
    "}"
   ]
  },
  {
   "cell_type": "code",
   "execution_count": null,
   "id": "7d7ee7d8",
   "metadata": {},
   "outputs": [],
   "source": [
    "### Confirm that pipelines dictionary was created\n",
    "### pipelines.items()"
   ]
  },
  {
   "cell_type": "code",
   "execution_count": null,
   "id": "abc09b81",
   "metadata": {},
   "outputs": [],
   "source": [
    "### List all hyperparameters for each model\n",
    "for model_name, model in pipelines.items():\n",
    "    print(f\"Hyperparameters for {model_name}:\")\n",
    "    print(model.get_params())\n",
    "    print(\"-\"*40)"
   ]
  },
  {
   "cell_type": "code",
   "execution_count": null,
   "id": "55ef99f0",
   "metadata": {},
   "outputs": [],
   "source": [
    "### Create a hyperparameter dictionary for each algorithm\n",
    "hyperparameter_dict = {\n",
    "    'lasso': {\n",
    "        'lasso__alpha': [0.001, 0.005, 0.01, 0.05, 0.1, 0.5, 1, 5, 10]\n",
    "    },\n",
    "    'ridge': {\n",
    "        'ridge__alpha': [0.1, 1, 10, 100, 1000]\n",
    "    },\n",
    "    'enet': {\n",
    "        'elasticnet__alpha': [0.001, 0.005, 0.01, 0.05, 0.1, 1, 5, 10],\n",
    "        'elasticnet__l1_ratio': [0.1, 0.3, 0.5, 0.7, 0.9, 1.0]\n",
    "    },\n",
    "    'rf': {\n",
    "        'randomforestregressor__n_estimators': [50, 100, 200, 300],\n",
    "        'randomforestregressor__max_features': ['auto', 'sqrt', 0.33],\n",
    "        'randomforestregressor__max_depth': [10, 20, 30, None],\n",
    "        'randomforestregressor__min_samples_split': [2, 5, 10],\n",
    "        'randomforestregressor__min_samples_leaf': [1, 2, 4]\n",
    "    },\n",
    "    'gb': {\n",
    "        'gradientboostingregressor__n_estimators': [100, 200, 300],\n",
    "        'gradientboostingregressor__learning_rate': [0.01, 0.05, 0.1, 0.2],\n",
    "        'gradientboostingregressor__max_depth': [1, 3, 5, 6],\n",
    "        'gradientboostingregressor__subsample': [0.8, 0.9, 1.0]\n",
    "    },\n",
    "    'xgb': {\n",
    "        'xgbregressor__n_estimators': [100, 200, 300],\n",
    "        'xgbregressor__learning_rate': [0.01, 0.05, 0.1, 0.2],\n",
    "        'xgbregressor__max_depth': [3, 4, 5, 6],\n",
    "        'xgbregressor__subsample': [0.8, 0.9, 1.0],\n",
    "        'xgbregressor__colsample_bytree': [0.8, 0.9, 1.0]\n",
    "    }\n",
    "}\n",
    "\n",
    "### Displaying hyperparameter dictionary\n",
    "hyperparameter_dict"
   ]
  },
  {
   "cell_type": "code",
   "execution_count": null,
   "id": "fbdb01f3",
   "metadata": {},
   "outputs": [],
   "source": [
    "### Checking if hyperparameters dict is setup correctly and the keys are same as pipelines dict\n",
    "for key in ['lasso', 'ridge', 'enet', 'rf', 'gb', 'xgb']:\n",
    "    if key in hyperparameter_dict:\n",
    "        if type(hyperparameter_dict[key]) is dict:\n",
    "            print(key, 'was found in hyperparameters_dict, and it is a grid')\n",
    "        else:\n",
    "            print(key, 'was found in hyperparameters_dict, but it is not a grid')\n",
    "    else:\n",
    "        print(key, 'was not found in hyperparameters_dict')"
   ]
  },
  {
   "cell_type": "code",
   "execution_count": null,
   "id": "a2ef63ac",
   "metadata": {},
   "outputs": [],
   "source": [
    "### Creating a dictionary of models to store models tuned using cross-validation\n",
    "fitted_models = {}\n",
    "\n",
    "### Looping through the pipeline tuning each one and saving it to fitted_models\n",
    "for name, pipeline in pipelines.items():\n",
    "    model = GridSearchCV(pipeline, hyperparameter_dict[name], cv=10, n_jobs=-1)\n",
    "    \n",
    "    # Fitting model to X_train, y_train\n",
    "    model.fit(X_train, y_train)\n",
    "    \n",
    "    # Storing the model in fitted_models dictionary\n",
    "    fitted_models[name] = model\n",
    "    \n",
    "    # print '{name}' has been fitted\n",
    "    print(name, 'has been fitted')"
   ]
  },
  {
   "cell_type": "code",
   "execution_count": null,
   "id": "6e401af2",
   "metadata": {},
   "outputs": [],
   "source": [
    "### Checking if fitted models are of correct type by displaying its key and class of its value\n",
    "for key, value in fitted_models.items():\n",
    "    print(key, type(value))"
   ]
  },
  {
   "cell_type": "code",
   "execution_count": null,
   "id": "5eef2478",
   "metadata": {},
   "outputs": [],
   "source": [
    "### Checking if models have been fitted correctly\n",
    "for name, model in fitted_models.items():\n",
    "    try:\n",
    "        pred = model.predict(X_test)\n",
    "        print(name, 'has been fitted')\n",
    "    except NotFittedError as e:\n",
    "        print(repr(e))"
   ]
  },
  {
   "cell_type": "markdown",
   "id": "314ca505",
   "metadata": {},
   "source": [
    "### Model Selection"
   ]
  },
  {
   "cell_type": "code",
   "execution_count": null,
   "id": "2a791017",
   "metadata": {},
   "outputs": [],
   "source": [
    "### Displaying the cross-validated training performance for each model in fitted_models\n",
    "for name, model in fitted_models.items():\n",
    "    print(name, model.best_score_)"
   ]
  },
  {
   "cell_type": "code",
   "execution_count": null,
   "id": "1fb9b99c",
   "metadata": {},
   "outputs": [],
   "source": [
    "### ### Displaying the best hyperparameters for each model in fitted_models\n",
    "for name, model in fitted_models.items():\n",
    "    print(name, model.best_params_)"
   ]
  },
  {
   "cell_type": "code",
   "execution_count": null,
   "id": "973b309d",
   "metadata": {},
   "outputs": [],
   "source": [
    "### Testing the performance of each model on the test set\n",
    "for name, model in fitted_models.items():\n",
    "    pred = model.predict(X_test)\n",
    "    print(name)\n",
    "    print('------')\n",
    "    print('R^2', r2_score(y_test, pred))\n",
    "    print('MAE', mean_absolute_error(y_test, pred))\n",
    "    print()"
   ]
  },
  {
   "cell_type": "code",
   "execution_count": null,
   "id": "6257bf65",
   "metadata": {},
   "outputs": [],
   "source": [
    "### Plotting the performance of the winning model on the test set\n",
    "winning_model_name = 'xgb'\n",
    "\n",
    "winning_model = fitted_models[winning_model_name]\n",
    "\n",
    "winning_model_predictions = winning_model.predict(X_test)\n",
    "\n",
    "plt.figure(figsize=(8, 6))\n",
    "plt.scatter(winning_model_predictions, y_test, alpha=0.5)\n",
    "plt.xlabel('Predicted Values')\n",
    "plt.ylabel('Actual Values')\n",
    "plt.axline((0, 0), slope=1, color='red', linestyle='--', linewidth=2, label='Perfect Prediction')\n",
    "plt.grid(True)\n",
    "plt.show()\n"
   ]
  },
  {
   "cell_type": "code",
   "execution_count": null,
   "id": "f6a50576",
   "metadata": {},
   "outputs": [],
   "source": [
    "### Saving the winning model\n",
    "import pickle\n",
    "\n",
    "with open('California_housing_model.pkl', 'wb') as f:\n",
    "    pickle.dump(fitted_models['rf'].best_estimator_, f)"
   ]
  }
 ],
 "metadata": {
  "kernelspec": {
   "display_name": "Python 3 (ipykernel)",
   "language": "python",
   "name": "python3"
  },
  "language_info": {
   "codemirror_mode": {
    "name": "ipython",
    "version": 3
   },
   "file_extension": ".py",
   "mimetype": "text/x-python",
   "name": "python",
   "nbconvert_exporter": "python",
   "pygments_lexer": "ipython3",
   "version": "3.10.9"
  }
 },
 "nbformat": 4,
 "nbformat_minor": 5
}
